{
 "cells": [
  {
   "cell_type": "raw",
   "id": "b495779f-3985-4d84-b738-94d9cacf5b8c",
   "metadata": {},
   "source": [
    "When I was working on this project, I sequentially went about it. I started with refining my data in the first .ipynb file \"CSV_Flittering_Code\" and then from there it led to futher refinement with the next 6 files each getting the data I needed to train essentially. Finally, .ipynb file 8 is the complete code for the Machine Learning Model, taking in the modifications we made using the first 7 files and using those specific csv files. "
   ]
  },
  {
   "cell_type": "raw",
   "id": "c3209e9c-a757-43db-bb50-0571ac7861aa",
   "metadata": {},
   "source": [
    "You can run file #8 and get the results immediantely but if you want to see the route my data took to achieve said result you can see it as it goes. "
   ]
  },
  {
   "cell_type": "raw",
   "id": "053c2761-8888-4ebc-998b-8cbc62b01063",
   "metadata": {},
   "source": [
    "I wanted to create code the would do all the steps in 1 .ipynb file but I spent alot of time tinkering with the code in file 8 to get it running, unfortunately I wasn't able to condense all the code into a single file for ease of running. But as mentioned previously, 8 is seperate from the rest of the code, it's only dependent on the csv files produced."
   ]
  }
 ],
 "metadata": {
  "kernelspec": {
   "display_name": "Python 3 (ipykernel)",
   "language": "python",
   "name": "python3"
  },
  "language_info": {
   "codemirror_mode": {
    "name": "ipython",
    "version": 3
   },
   "file_extension": ".py",
   "mimetype": "text/x-python",
   "name": "python",
   "nbconvert_exporter": "python",
   "pygments_lexer": "ipython3",
   "version": "3.9.12"
  }
 },
 "nbformat": 4,
 "nbformat_minor": 5
}
