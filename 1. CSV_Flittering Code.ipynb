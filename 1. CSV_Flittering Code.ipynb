{
 "cells": [
  {
   "cell_type": "raw",
   "id": "4c01021c-54c9-41b9-9e47-407e8418c330",
   "metadata": {},
   "source": [
    "# In this set of Code, I flittered out Retweets from the overall list I scraped so that repeating tweets don't mess with the average polarity. Created new csv's for the 6 files"
   ]
  },
  {
   "cell_type": "raw",
   "id": "1aa34dc0-6d9e-49f9-90d9-2c1fd60220fa",
   "metadata": {},
   "source": [
    "# The CSV's used are in the original CSV file"
   ]
  },
  {
   "cell_type": "raw",
   "id": "aaf40552-cdce-4b75-86d9-d5d47aaa92ba",
   "metadata": {},
   "source": [
    "# Since I already have the files sent over you don't have to run this file but if you want it shouldn't break anything"
   ]
  },
  {
   "cell_type": "code",
   "execution_count": 1,
   "id": "1762d507-bed3-4b43-ae8c-a2c40c85d492",
   "metadata": {},
   "outputs": [],
   "source": [
    "import pandas as pd\n",
    "\n",
    "# Read the CSV file into a DataFrame\n",
    "file_name = \"Biden_CSV.csv\"\n",
    "df = pd.read_csv(file_name)\n",
    "\n",
    "# Filter out the rows with 'Retweet' in the 'Tweet Type' column\n",
    "filtered_df = df[df['Tweet Type'] != 'Retweet']\n",
    "\n",
    "# Save the filtered DataFrame to a new CSV file\n",
    "filtered_df.to_csv(\"Filtered_Biden_CSV.csv\", index=False)"
   ]
  },
  {
   "cell_type": "code",
   "execution_count": 2,
   "id": "63a735cf-3244-40c8-8766-4857040f427c",
   "metadata": {},
   "outputs": [],
   "source": [
    "# Read the CSV file into a DataFrame\n",
    "file_name = \"Modi_CSV.csv\"\n",
    "df = pd.read_csv(file_name)\n",
    "\n",
    "# Filter out the rows with 'Retweet' in the 'Tweet Type' column\n",
    "filtered_df = df[df['Tweet Type'] != 'Retweet']\n",
    "\n",
    "# Save the filtered DataFrame to a new CSV file\n",
    "filtered_df.to_csv(\"Filtered_Modi_CSV.csv\", index=False)"
   ]
  },
  {
   "cell_type": "code",
   "execution_count": 3,
   "id": "70d45af1-90c8-4f1c-bae8-105f50ff9bf1",
   "metadata": {},
   "outputs": [],
   "source": [
    "# Read the CSV file into a DataFrame\n",
    "file_name = \"Putin_CSV.csv\"\n",
    "df = pd.read_csv(file_name)\n",
    "\n",
    "# Filter out the rows with 'Retweet' in the 'Tweet Type' column\n",
    "filtered_df = df[df['Tweet Type'] != 'Retweet']\n",
    "\n",
    "# Save the filtered DataFrame to a new CSV file\n",
    "filtered_df.to_csv(\"Filtered_Putin_CSV.csv\", index=False)"
   ]
  },
  {
   "cell_type": "code",
   "execution_count": 4,
   "id": "b3dbf357-7390-4812-9b11-832726b2f2e1",
   "metadata": {},
   "outputs": [],
   "source": [
    "# Read the CSV file into a DataFrame\n",
    "file_name = \"Trudeau_CSV.csv\"\n",
    "df = pd.read_csv(file_name)\n",
    "\n",
    "# Filter out the rows with 'Retweet' in the 'Tweet Type' column\n",
    "filtered_df = df[df['Tweet Type'] != 'Retweet']\n",
    "\n",
    "# Save the filtered DataFrame to a new CSV file\n",
    "filtered_df.to_csv(\"Filtered_Trudeau_CSV.csv\", index=False)"
   ]
  },
  {
   "cell_type": "code",
   "execution_count": 5,
   "id": "5d932467-807d-4414-80ac-d8adea8fdb1b",
   "metadata": {},
   "outputs": [],
   "source": [
    "# Read the CSV file into a DataFrame\n",
    "file_name = \"Xijinping_CSV.csv\"\n",
    "df = pd.read_csv(file_name)\n",
    "\n",
    "# Filter out the rows with 'Retweet' in the 'Tweet Type' column\n",
    "filtered_df = df[df['Tweet Type'] != 'Retweet']\n",
    "\n",
    "# Save the filtered DataFrame to a new CSV file\n",
    "filtered_df.to_csv(\"Filtered_Xijinping_CSV.csv\", index=False)"
   ]
  },
  {
   "cell_type": "code",
   "execution_count": 6,
   "id": "5a49125a-1675-4cee-8832-03f0b579f38a",
   "metadata": {},
   "outputs": [],
   "source": [
    "# Read the CSV file into a DataFrame\n",
    "file_name = \"Zelenskyy_CSV.csv\"\n",
    "df = pd.read_csv(file_name)\n",
    "\n",
    "# Filter out the rows with 'Retweet' in the 'Tweet Type' column\n",
    "filtered_df = df[df['Tweet Type'] != 'Retweet']\n",
    "\n",
    "# Save the filtered DataFrame to a new CSV file\n",
    "filtered_df.to_csv(\"Filtered_Zelenskyy_CSV.csv\", index=False)"
   ]
  }
 ],
 "metadata": {
  "kernelspec": {
   "display_name": "Python 3 (ipykernel)",
   "language": "python",
   "name": "python3"
  },
  "language_info": {
   "codemirror_mode": {
    "name": "ipython",
    "version": 3
   },
   "file_extension": ".py",
   "mimetype": "text/x-python",
   "name": "python",
   "nbconvert_exporter": "python",
   "pygments_lexer": "ipython3",
   "version": "3.9.12"
  }
 },
 "nbformat": 4,
 "nbformat_minor": 5
}
